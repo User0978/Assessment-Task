{
 "cells": [
  {
   "cell_type": "markdown",
   "id": "04ed087e",
   "metadata": {},
   "source": [
    "### Recurrent Neural Network using Gated Recurrent Unit(GRU)"
   ]
  },
  {
   "cell_type": "code",
   "execution_count": 1,
   "id": "9d0796df",
   "metadata": {},
   "outputs": [],
   "source": [
    "#import the libraries needed\n",
    "import numpy as np                   #used for algebra\n",
    "import pandas as pd                  #used for reading csv files\n",
    "import pandas_datareader.data as web #used to read data from a web source\n",
    "import matplotlib.pyplot as plt      #used for plotting"
   ]
  },
  {
   "cell_type": "code",
   "execution_count": 2,
   "id": "62c14e14",
   "metadata": {},
   "outputs": [
    {
     "data": {
      "text/html": [
       "<div>\n",
       "<style scoped>\n",
       "    .dataframe tbody tr th:only-of-type {\n",
       "        vertical-align: middle;\n",
       "    }\n",
       "\n",
       "    .dataframe tbody tr th {\n",
       "        vertical-align: top;\n",
       "    }\n",
       "\n",
       "    .dataframe thead th {\n",
       "        text-align: right;\n",
       "    }\n",
       "</style>\n",
       "<table border=\"1\" class=\"dataframe\">\n",
       "  <thead>\n",
       "    <tr style=\"text-align: right;\">\n",
       "      <th></th>\n",
       "      <th>High</th>\n",
       "      <th>Low</th>\n",
       "      <th>Open</th>\n",
       "      <th>Close</th>\n",
       "      <th>Volume</th>\n",
       "      <th>Adj Close</th>\n",
       "    </tr>\n",
       "    <tr>\n",
       "      <th>Date</th>\n",
       "      <th></th>\n",
       "      <th></th>\n",
       "      <th></th>\n",
       "      <th></th>\n",
       "      <th></th>\n",
       "      <th></th>\n",
       "    </tr>\n",
       "  </thead>\n",
       "  <tbody>\n",
       "    <tr>\n",
       "      <th>2020-01-02</th>\n",
       "      <td>1.6800</td>\n",
       "      <td>1.6800</td>\n",
       "      <td>1.6800</td>\n",
       "      <td>1.6800</td>\n",
       "      <td>0.0</td>\n",
       "      <td>0.054555</td>\n",
       "    </tr>\n",
       "    <tr>\n",
       "      <th>2020-01-03</th>\n",
       "      <td>1.6800</td>\n",
       "      <td>1.6800</td>\n",
       "      <td>1.6800</td>\n",
       "      <td>1.6800</td>\n",
       "      <td>0.0</td>\n",
       "      <td>0.054555</td>\n",
       "    </tr>\n",
       "    <tr>\n",
       "      <th>2020-01-06</th>\n",
       "      <td>1.6800</td>\n",
       "      <td>1.6800</td>\n",
       "      <td>1.6800</td>\n",
       "      <td>1.6800</td>\n",
       "      <td>0.0</td>\n",
       "      <td>0.054555</td>\n",
       "    </tr>\n",
       "    <tr>\n",
       "      <th>2020-01-07</th>\n",
       "      <td>1.6800</td>\n",
       "      <td>1.6800</td>\n",
       "      <td>1.6800</td>\n",
       "      <td>1.6800</td>\n",
       "      <td>0.0</td>\n",
       "      <td>0.054555</td>\n",
       "    </tr>\n",
       "    <tr>\n",
       "      <th>2020-01-08</th>\n",
       "      <td>1.6800</td>\n",
       "      <td>1.6800</td>\n",
       "      <td>1.6800</td>\n",
       "      <td>1.6800</td>\n",
       "      <td>0.0</td>\n",
       "      <td>0.054555</td>\n",
       "    </tr>\n",
       "    <tr>\n",
       "      <th>...</th>\n",
       "      <td>...</td>\n",
       "      <td>...</td>\n",
       "      <td>...</td>\n",
       "      <td>...</td>\n",
       "      <td>...</td>\n",
       "      <td>...</td>\n",
       "    </tr>\n",
       "    <tr>\n",
       "      <th>2022-10-03</th>\n",
       "      <td>1.8099</td>\n",
       "      <td>1.8099</td>\n",
       "      <td>1.8099</td>\n",
       "      <td>1.8099</td>\n",
       "      <td>0.0</td>\n",
       "      <td>1.809900</td>\n",
       "    </tr>\n",
       "    <tr>\n",
       "      <th>2022-10-04</th>\n",
       "      <td>1.6600</td>\n",
       "      <td>1.6600</td>\n",
       "      <td>1.6600</td>\n",
       "      <td>1.6600</td>\n",
       "      <td>100.0</td>\n",
       "      <td>1.660000</td>\n",
       "    </tr>\n",
       "    <tr>\n",
       "      <th>2022-10-05</th>\n",
       "      <td>1.6600</td>\n",
       "      <td>1.6600</td>\n",
       "      <td>1.6600</td>\n",
       "      <td>1.6600</td>\n",
       "      <td>0.0</td>\n",
       "      <td>1.660000</td>\n",
       "    </tr>\n",
       "    <tr>\n",
       "      <th>2022-10-06</th>\n",
       "      <td>1.6600</td>\n",
       "      <td>1.6600</td>\n",
       "      <td>1.6600</td>\n",
       "      <td>1.6600</td>\n",
       "      <td>0.0</td>\n",
       "      <td>1.660000</td>\n",
       "    </tr>\n",
       "    <tr>\n",
       "      <th>2022-10-07</th>\n",
       "      <td>1.6600</td>\n",
       "      <td>1.6600</td>\n",
       "      <td>1.6600</td>\n",
       "      <td>1.6600</td>\n",
       "      <td>0.0</td>\n",
       "      <td>1.660000</td>\n",
       "    </tr>\n",
       "  </tbody>\n",
       "</table>\n",
       "<p>698 rows × 6 columns</p>\n",
       "</div>"
      ],
      "text/plain": [
       "              High     Low    Open   Close  Volume  Adj Close\n",
       "Date                                                         \n",
       "2020-01-02  1.6800  1.6800  1.6800  1.6800     0.0   0.054555\n",
       "2020-01-03  1.6800  1.6800  1.6800  1.6800     0.0   0.054555\n",
       "2020-01-06  1.6800  1.6800  1.6800  1.6800     0.0   0.054555\n",
       "2020-01-07  1.6800  1.6800  1.6800  1.6800     0.0   0.054555\n",
       "2020-01-08  1.6800  1.6800  1.6800  1.6800     0.0   0.054555\n",
       "...            ...     ...     ...     ...     ...        ...\n",
       "2022-10-03  1.8099  1.8099  1.8099  1.8099     0.0   1.809900\n",
       "2022-10-04  1.6600  1.6600  1.6600  1.6600   100.0   1.660000\n",
       "2022-10-05  1.6600  1.6600  1.6600  1.6600     0.0   1.660000\n",
       "2022-10-06  1.6600  1.6600  1.6600  1.6600     0.0   1.660000\n",
       "2022-10-07  1.6600  1.6600  1.6600  1.6600     0.0   1.660000\n",
       "\n",
       "[698 rows x 6 columns]"
      ]
     },
     "execution_count": 2,
     "metadata": {},
     "output_type": "execute_result"
    }
   ],
   "source": [
    "#retrieving the data from the web source using pandas\n",
    "BPI_data = web.DataReader(\"BPHLF\", data_source='yahoo',start=\"2020-01-02\",end=\"2022-10-07\")\n",
    "BPI_data #display of the data"
   ]
  },
  {
   "cell_type": "code",
   "execution_count": 3,
   "id": "802f9e28",
   "metadata": {},
   "outputs": [
    {
     "name": "stdout",
     "output_type": "stream",
     "text": [
      "          Date\n",
      "0   2020-01-02\n",
      "1   2020-01-03\n",
      "2   2020-01-06\n",
      "3   2020-01-07\n",
      "4   2020-01-08\n",
      "..         ...\n",
      "693 2022-10-03\n",
      "694 2022-10-04\n",
      "695 2022-10-05\n",
      "696 2022-10-06\n",
      "697 2022-10-07\n",
      "\n",
      "[698 rows x 1 columns]\n"
     ]
    }
   ],
   "source": [
    "#used to index the Date column since it cannot be read by the libraries since Date is not a label\n",
    "BPI_data.index\n",
    "BPI_data_Open=BPI_data[[\"Open\"]] #this returns a DataFrame, you don't need loc\n",
    "BPI_data_dates=BPI_data.index.to_frame().reset_index(drop=True)\n",
    "print(BPI_data_dates)\n",
    "\n",
    "#Separate the Date index to be used later in the prediction\n",
    "train_dates = pd.to_datetime(BPI_data_dates[\"Date\"])"
   ]
  },
  {
   "cell_type": "code",
   "execution_count": 4,
   "id": "73fcbd79",
   "metadata": {},
   "outputs": [],
   "source": [
    "#import the preprocessing library for standardscaler to use in getting and transforming the values in the data\n",
    "from sklearn.preprocessing import MinMaxScaler\n",
    "#Save the Adj Close index to be used later in the prediction\n",
    "returns = BPI_data[\"Adj Close\"].pct_change()\n",
    "#This standardizes the data and scales it to the unit variance\n",
    "col_names = BPI_data.columns\n",
    "x = BPI_data.values\n",
    "scaler = MinMaxScaler()\n",
    "x_scaled = scaler.fit_transform(x)\n",
    "df = pd.DataFrame(x_scaled) #saves a dataframe of the scaled data"
   ]
  },
  {
   "cell_type": "code",
   "execution_count": 5,
   "id": "24c59a91",
   "metadata": {},
   "outputs": [],
   "source": [
    "#save the dataframe to a different name to avoid confusion\n",
    "BPI_data_pct = df\n",
    "BPI_data_pct.columns = col_names"
   ]
  },
  {
   "cell_type": "code",
   "execution_count": 6,
   "id": "df27e786",
   "metadata": {},
   "outputs": [
    {
     "data": {
      "text/html": [
       "<div>\n",
       "<style scoped>\n",
       "    .dataframe tbody tr th:only-of-type {\n",
       "        vertical-align: middle;\n",
       "    }\n",
       "\n",
       "    .dataframe tbody tr th {\n",
       "        vertical-align: top;\n",
       "    }\n",
       "\n",
       "    .dataframe thead th {\n",
       "        text-align: right;\n",
       "    }\n",
       "</style>\n",
       "<table border=\"1\" class=\"dataframe\">\n",
       "  <thead>\n",
       "    <tr style=\"text-align: right;\">\n",
       "      <th></th>\n",
       "      <th>High</th>\n",
       "      <th>Low</th>\n",
       "      <th>Open</th>\n",
       "      <th>Close</th>\n",
       "      <th>Volume</th>\n",
       "      <th>Adj Close</th>\n",
       "    </tr>\n",
       "  </thead>\n",
       "  <tbody>\n",
       "    <tr>\n",
       "      <th>0</th>\n",
       "      <td>0.638298</td>\n",
       "      <td>0.638298</td>\n",
       "      <td>0.638298</td>\n",
       "      <td>0.638298</td>\n",
       "      <td>0.00000</td>\n",
       "      <td>0.010561</td>\n",
       "    </tr>\n",
       "    <tr>\n",
       "      <th>1</th>\n",
       "      <td>0.638298</td>\n",
       "      <td>0.638298</td>\n",
       "      <td>0.638298</td>\n",
       "      <td>0.638298</td>\n",
       "      <td>0.00000</td>\n",
       "      <td>0.010561</td>\n",
       "    </tr>\n",
       "    <tr>\n",
       "      <th>2</th>\n",
       "      <td>0.638298</td>\n",
       "      <td>0.638298</td>\n",
       "      <td>0.638298</td>\n",
       "      <td>0.638298</td>\n",
       "      <td>0.00000</td>\n",
       "      <td>0.010561</td>\n",
       "    </tr>\n",
       "    <tr>\n",
       "      <th>3</th>\n",
       "      <td>0.638298</td>\n",
       "      <td>0.638298</td>\n",
       "      <td>0.638298</td>\n",
       "      <td>0.638298</td>\n",
       "      <td>0.00000</td>\n",
       "      <td>0.010561</td>\n",
       "    </tr>\n",
       "    <tr>\n",
       "      <th>4</th>\n",
       "      <td>0.638298</td>\n",
       "      <td>0.638298</td>\n",
       "      <td>0.638298</td>\n",
       "      <td>0.638298</td>\n",
       "      <td>0.00000</td>\n",
       "      <td>0.010561</td>\n",
       "    </tr>\n",
       "    <tr>\n",
       "      <th>...</th>\n",
       "      <td>...</td>\n",
       "      <td>...</td>\n",
       "      <td>...</td>\n",
       "      <td>...</td>\n",
       "      <td>...</td>\n",
       "      <td>...</td>\n",
       "    </tr>\n",
       "    <tr>\n",
       "      <th>693</th>\n",
       "      <td>0.776489</td>\n",
       "      <td>0.776489</td>\n",
       "      <td>0.776489</td>\n",
       "      <td>0.776489</td>\n",
       "      <td>0.00000</td>\n",
       "      <td>0.962004</td>\n",
       "    </tr>\n",
       "    <tr>\n",
       "      <th>694</th>\n",
       "      <td>0.617021</td>\n",
       "      <td>0.617021</td>\n",
       "      <td>0.617021</td>\n",
       "      <td>0.617021</td>\n",
       "      <td>0.01581</td>\n",
       "      <td>0.880754</td>\n",
       "    </tr>\n",
       "    <tr>\n",
       "      <th>695</th>\n",
       "      <td>0.617021</td>\n",
       "      <td>0.617021</td>\n",
       "      <td>0.617021</td>\n",
       "      <td>0.617021</td>\n",
       "      <td>0.00000</td>\n",
       "      <td>0.880754</td>\n",
       "    </tr>\n",
       "    <tr>\n",
       "      <th>696</th>\n",
       "      <td>0.617021</td>\n",
       "      <td>0.617021</td>\n",
       "      <td>0.617021</td>\n",
       "      <td>0.617021</td>\n",
       "      <td>0.00000</td>\n",
       "      <td>0.880754</td>\n",
       "    </tr>\n",
       "    <tr>\n",
       "      <th>697</th>\n",
       "      <td>0.617021</td>\n",
       "      <td>0.617021</td>\n",
       "      <td>0.617021</td>\n",
       "      <td>0.617021</td>\n",
       "      <td>0.00000</td>\n",
       "      <td>0.880754</td>\n",
       "    </tr>\n",
       "  </tbody>\n",
       "</table>\n",
       "<p>698 rows × 6 columns</p>\n",
       "</div>"
      ],
      "text/plain": [
       "         High       Low      Open     Close   Volume  Adj Close\n",
       "0    0.638298  0.638298  0.638298  0.638298  0.00000   0.010561\n",
       "1    0.638298  0.638298  0.638298  0.638298  0.00000   0.010561\n",
       "2    0.638298  0.638298  0.638298  0.638298  0.00000   0.010561\n",
       "3    0.638298  0.638298  0.638298  0.638298  0.00000   0.010561\n",
       "4    0.638298  0.638298  0.638298  0.638298  0.00000   0.010561\n",
       "..        ...       ...       ...       ...      ...        ...\n",
       "693  0.776489  0.776489  0.776489  0.776489  0.00000   0.962004\n",
       "694  0.617021  0.617021  0.617021  0.617021  0.01581   0.880754\n",
       "695  0.617021  0.617021  0.617021  0.617021  0.00000   0.880754\n",
       "696  0.617021  0.617021  0.617021  0.617021  0.00000   0.880754\n",
       "697  0.617021  0.617021  0.617021  0.617021  0.00000   0.880754\n",
       "\n",
       "[698 rows x 6 columns]"
      ]
     },
     "execution_count": 6,
     "metadata": {},
     "output_type": "execute_result"
    }
   ],
   "source": [
    "BPI_data_pct #print the scaled data"
   ]
  },
  {
   "cell_type": "code",
   "execution_count": 7,
   "id": "58323a37",
   "metadata": {},
   "outputs": [
    {
     "data": {
      "text/plain": [
       "Date\n",
       "2020-01-02         NaN\n",
       "2020-01-03    0.000000\n",
       "2020-01-06    0.000000\n",
       "2020-01-07    0.000000\n",
       "2020-01-08    0.000000\n",
       "                ...   \n",
       "2022-10-03    0.000000\n",
       "2022-10-04   -0.082822\n",
       "2022-10-05    0.000000\n",
       "2022-10-06    0.000000\n",
       "2022-10-07    0.000000\n",
       "Name: Adj Close, Length: 698, dtype: float64"
      ]
     },
     "execution_count": 7,
     "metadata": {},
     "output_type": "execute_result"
    }
   ],
   "source": [
    "returns #print the scaled Adj Close data from returns"
   ]
  },
  {
   "cell_type": "code",
   "execution_count": 8,
   "id": "e49540ae",
   "metadata": {},
   "outputs": [],
   "source": [
    "#This determines how many days you use to check - for - how many days to predict\n",
    "samples = 10 #past days used to predict the future\n",
    "steps = 1 #how many days in the future to predict\n",
    "#create empty indeces to store the data later\n",
    "X = [] #for the independent variables\n",
    "y = [] #for the dependent variables\n",
    "#loop used to determine the data to be stored in the empty sets X,y\n",
    "for i in range(samples, BPI_data_pct.shape[0]-steps+1): #this loop determines the predicted value given the past values\n",
    "    X.append(x_scaled[i-samples:i, 0:BPI_data.shape[1]])\n",
    "    y.append(x_scaled[i+steps-1:i+steps, 0])"
   ]
  },
  {
   "cell_type": "code",
   "execution_count": 9,
   "id": "f68843f2",
   "metadata": {},
   "outputs": [
    {
     "name": "stdout",
     "output_type": "stream",
     "text": [
      "[array([[0.63829781, 0.63829781, 0.63829781, 0.63829781, 0.        ,\n",
      "        0.01056082],\n",
      "       [0.63829781, 0.63829781, 0.63829781, 0.63829781, 0.        ,\n",
      "        0.01056082],\n",
      "       [0.63829781, 0.63829781, 0.63829781, 0.63829781, 0.        ,\n",
      "        0.01056082],\n",
      "       [0.63829781, 0.63829781, 0.63829781, 0.63829781, 0.        ,\n",
      "        0.01056082],\n",
      "       [0.63829781, 0.63829781, 0.63829781, 0.63829781, 0.        ,\n",
      "        0.01056082],\n",
      "       [0.63829781, 0.63829781, 0.63829781, 0.63829781, 0.        ,\n",
      "        0.01056082],\n",
      "       [0.63829781, 0.63829781, 0.63829781, 0.63829781, 0.        ,\n",
      "        0.01056082],\n",
      "       [0.63829781, 0.63829781, 0.63829781, 0.63829781, 0.        ,\n",
      "        0.01056082],\n",
      "       [0.63829781, 0.63829781, 0.63829781, 0.63829781, 0.        ,\n",
      "        0.01056082],\n",
      "       [0.63829781, 0.63829781, 0.63829781, 0.63829781, 0.        ,\n",
      "        0.01056082]])]\n",
      "[array([0.63829781])]\n"
     ]
    }
   ],
   "source": [
    "#print an example of the code above\n",
    "print(X[0:1])\n",
    "print(y[0:1])"
   ]
  },
  {
   "cell_type": "code",
   "execution_count": 10,
   "id": "61564b85",
   "metadata": {},
   "outputs": [],
   "source": [
    "#converts the X and y values into numpy arrays\n",
    "X = np.array(X)\n",
    "y = np.array(y)\n",
    "#determines the test and train values using a threshold, the threshold determines the size of the test and train sets\n",
    "threshold = round(0.9*X.shape[0])\n",
    "X_train, y_train = X[:threshold], y[:threshold]\n",
    "X_test, y_test = X[threshold:], y[threshold:]"
   ]
  },
  {
   "cell_type": "code",
   "execution_count": 11,
   "id": "73993fe6",
   "metadata": {},
   "outputs": [
    {
     "name": "stdout",
     "output_type": "stream",
     "text": [
      "(619, 10, 6)\n",
      "(619, 1)\n",
      "(69, 10, 6)\n",
      "(69, 1)\n"
     ]
    }
   ],
   "source": [
    "#print to check the shape of the variables\n",
    "print(X_train.shape)\n",
    "print(y_train.shape)\n",
    "print(X_test.shape)\n",
    "print(y_test.shape)"
   ]
  },
  {
   "cell_type": "code",
   "execution_count": 12,
   "id": "cafe1a1b",
   "metadata": {},
   "outputs": [
    {
     "name": "stdout",
     "output_type": "stream",
     "text": [
      "Epoch 1/100\n",
      "16/16 [==============================] - 6s 97ms/step - loss: 0.1112 - val_loss: 0.0495\n",
      "Epoch 2/100\n",
      "16/16 [==============================] - 0s 11ms/step - loss: 0.0255 - val_loss: 0.0035\n",
      "Epoch 3/100\n",
      "16/16 [==============================] - 0s 10ms/step - loss: 0.0252 - val_loss: 0.0090\n",
      "Epoch 4/100\n",
      "16/16 [==============================] - 0s 11ms/step - loss: 0.0214 - val_loss: 0.0119\n",
      "Epoch 5/100\n",
      "16/16 [==============================] - 0s 12ms/step - loss: 0.0193 - val_loss: 0.0058\n",
      "Epoch 6/100\n",
      "16/16 [==============================] - 0s 14ms/step - loss: 0.0188 - val_loss: 0.0047\n",
      "Epoch 7/100\n",
      "16/16 [==============================] - 0s 13ms/step - loss: 0.0171 - val_loss: 0.0045\n",
      "Epoch 8/100\n",
      "16/16 [==============================] - 0s 17ms/step - loss: 0.0145 - val_loss: 0.0038\n",
      "Epoch 9/100\n",
      "16/16 [==============================] - 0s 13ms/step - loss: 0.0122 - val_loss: 0.0027\n",
      "Epoch 10/100\n",
      "16/16 [==============================] - 0s 14ms/step - loss: 0.0139 - val_loss: 0.0021\n",
      "Epoch 11/100\n",
      "16/16 [==============================] - 0s 14ms/step - loss: 0.0119 - val_loss: 0.0023\n",
      "Epoch 12/100\n",
      "16/16 [==============================] - 0s 16ms/step - loss: 0.0132 - val_loss: 0.0020\n",
      "Epoch 13/100\n",
      "16/16 [==============================] - 0s 14ms/step - loss: 0.0118 - val_loss: 0.0019\n",
      "Epoch 14/100\n",
      "16/16 [==============================] - 0s 14ms/step - loss: 0.0099 - val_loss: 0.0019\n",
      "Epoch 15/100\n",
      "16/16 [==============================] - 0s 13ms/step - loss: 0.0116 - val_loss: 0.0021\n",
      "Epoch 16/100\n",
      "16/16 [==============================] - 0s 11ms/step - loss: 0.0094 - val_loss: 0.0019\n",
      "Epoch 17/100\n",
      "16/16 [==============================] - 0s 10ms/step - loss: 0.0112 - val_loss: 0.0019\n",
      "Epoch 18/100\n",
      "16/16 [==============================] - 0s 10ms/step - loss: 0.0102 - val_loss: 0.0020\n",
      "Epoch 19/100\n",
      "16/16 [==============================] - 0s 11ms/step - loss: 0.0100 - val_loss: 0.0018\n",
      "Epoch 20/100\n",
      "16/16 [==============================] - 0s 12ms/step - loss: 0.0089 - val_loss: 0.0020\n",
      "Epoch 21/100\n",
      "16/16 [==============================] - 0s 14ms/step - loss: 0.0079 - val_loss: 0.0018\n",
      "Epoch 22/100\n",
      "16/16 [==============================] - 0s 12ms/step - loss: 0.0089 - val_loss: 0.0017\n",
      "Epoch 23/100\n",
      "16/16 [==============================] - 0s 13ms/step - loss: 0.0081 - val_loss: 0.0018\n",
      "Epoch 24/100\n",
      "16/16 [==============================] - 0s 24ms/step - loss: 0.0076 - val_loss: 0.0017\n",
      "Epoch 25/100\n",
      "16/16 [==============================] - 0s 13ms/step - loss: 0.0070 - val_loss: 0.0018\n",
      "Epoch 26/100\n",
      "16/16 [==============================] - 0s 14ms/step - loss: 0.0074 - val_loss: 0.0017\n",
      "Epoch 27/100\n",
      "16/16 [==============================] - 0s 15ms/step - loss: 0.0073 - val_loss: 0.0018\n",
      "Epoch 28/100\n",
      "16/16 [==============================] - 0s 13ms/step - loss: 0.0075 - val_loss: 0.0017\n",
      "Epoch 29/100\n",
      "16/16 [==============================] - 0s 13ms/step - loss: 0.0082 - val_loss: 0.0020\n",
      "Epoch 30/100\n",
      "16/16 [==============================] - 0s 12ms/step - loss: 0.0088 - val_loss: 0.0018\n",
      "Epoch 31/100\n",
      "16/16 [==============================] - 0s 11ms/step - loss: 0.0079 - val_loss: 0.0016\n",
      "Epoch 32/100\n",
      "16/16 [==============================] - 0s 10ms/step - loss: 0.0077 - val_loss: 0.0016\n",
      "Epoch 33/100\n",
      "16/16 [==============================] - 0s 9ms/step - loss: 0.0071 - val_loss: 0.0017\n",
      "Epoch 34/100\n",
      "16/16 [==============================] - 0s 9ms/step - loss: 0.0072 - val_loss: 0.0016\n",
      "Epoch 35/100\n",
      "16/16 [==============================] - 0s 10ms/step - loss: 0.0067 - val_loss: 0.0016\n",
      "Epoch 36/100\n",
      "16/16 [==============================] - 0s 10ms/step - loss: 0.0067 - val_loss: 0.0021\n",
      "Epoch 37/100\n",
      "16/16 [==============================] - 0s 13ms/step - loss: 0.0074 - val_loss: 0.0018\n",
      "Epoch 38/100\n",
      "16/16 [==============================] - 0s 12ms/step - loss: 0.0075 - val_loss: 0.0018\n",
      "Epoch 39/100\n",
      "16/16 [==============================] - 0s 12ms/step - loss: 0.0074 - val_loss: 0.0016\n",
      "Epoch 40/100\n",
      "16/16 [==============================] - 0s 13ms/step - loss: 0.0068 - val_loss: 0.0017\n",
      "Epoch 41/100\n",
      "16/16 [==============================] - 0s 12ms/step - loss: 0.0063 - val_loss: 0.0016\n",
      "Epoch 42/100\n",
      "16/16 [==============================] - 0s 12ms/step - loss: 0.0070 - val_loss: 0.0017\n",
      "Epoch 43/100\n",
      "16/16 [==============================] - 0s 13ms/step - loss: 0.0065 - val_loss: 0.0017\n",
      "Epoch 44/100\n",
      "16/16 [==============================] - 0s 12ms/step - loss: 0.0065 - val_loss: 0.0016\n",
      "Epoch 45/100\n",
      "16/16 [==============================] - 0s 14ms/step - loss: 0.0063 - val_loss: 0.0019\n",
      "Epoch 46/100\n",
      "16/16 [==============================] - 0s 13ms/step - loss: 0.0062 - val_loss: 0.0016\n",
      "Epoch 47/100\n",
      "16/16 [==============================] - 0s 12ms/step - loss: 0.0060 - val_loss: 0.0016\n",
      "Epoch 48/100\n",
      "16/16 [==============================] - 0s 12ms/step - loss: 0.0058 - val_loss: 0.0017\n",
      "Epoch 49/100\n",
      "16/16 [==============================] - 0s 11ms/step - loss: 0.0073 - val_loss: 0.0015\n",
      "Epoch 50/100\n",
      "16/16 [==============================] - 0s 10ms/step - loss: 0.0060 - val_loss: 0.0016\n",
      "Epoch 51/100\n",
      "16/16 [==============================] - 0s 10ms/step - loss: 0.0064 - val_loss: 0.0016\n",
      "Epoch 52/100\n",
      "16/16 [==============================] - 0s 10ms/step - loss: 0.0060 - val_loss: 0.0015\n",
      "Epoch 53/100\n",
      "16/16 [==============================] - 0s 10ms/step - loss: 0.0062 - val_loss: 0.0024\n",
      "Epoch 54/100\n",
      "16/16 [==============================] - 0s 13ms/step - loss: 0.0058 - val_loss: 0.0016\n",
      "Epoch 55/100\n",
      "16/16 [==============================] - 0s 13ms/step - loss: 0.0057 - val_loss: 0.0016\n",
      "Epoch 56/100\n",
      "16/16 [==============================] - 0s 12ms/step - loss: 0.0054 - val_loss: 0.0019\n",
      "Epoch 57/100\n",
      "16/16 [==============================] - 0s 12ms/step - loss: 0.0060 - val_loss: 0.0016\n",
      "Epoch 58/100\n",
      "16/16 [==============================] - 0s 12ms/step - loss: 0.0058 - val_loss: 0.0016\n",
      "Epoch 59/100\n",
      "16/16 [==============================] - 0s 13ms/step - loss: 0.0056 - val_loss: 0.0016\n",
      "Epoch 60/100\n",
      "16/16 [==============================] - 0s 12ms/step - loss: 0.0062 - val_loss: 0.0016\n",
      "Epoch 61/100\n",
      "16/16 [==============================] - 0s 12ms/step - loss: 0.0058 - val_loss: 0.0015\n",
      "Epoch 62/100\n",
      "16/16 [==============================] - 0s 12ms/step - loss: 0.0059 - val_loss: 0.0016\n",
      "Epoch 63/100\n",
      "16/16 [==============================] - 0s 12ms/step - loss: 0.0057 - val_loss: 0.0016\n",
      "Epoch 64/100\n",
      "16/16 [==============================] - 0s 12ms/step - loss: 0.0057 - val_loss: 0.0015\n",
      "Epoch 65/100\n",
      "16/16 [==============================] - 0s 11ms/step - loss: 0.0054 - val_loss: 0.0017\n",
      "Epoch 66/100\n",
      "16/16 [==============================] - 0s 9ms/step - loss: 0.0058 - val_loss: 0.0015\n",
      "Epoch 67/100\n",
      "16/16 [==============================] - 0s 10ms/step - loss: 0.0053 - val_loss: 0.0017\n",
      "Epoch 68/100\n",
      "16/16 [==============================] - 0s 10ms/step - loss: 0.0055 - val_loss: 0.0017\n",
      "Epoch 69/100\n",
      "16/16 [==============================] - 0s 10ms/step - loss: 0.0056 - val_loss: 0.0016\n",
      "Epoch 70/100\n",
      "16/16 [==============================] - 0s 10ms/step - loss: 0.0053 - val_loss: 0.0018\n",
      "Epoch 71/100\n",
      "16/16 [==============================] - 0s 11ms/step - loss: 0.0059 - val_loss: 0.0018\n",
      "Epoch 72/100\n",
      "16/16 [==============================] - 0s 13ms/step - loss: 0.0053 - val_loss: 0.0015\n",
      "Epoch 73/100\n",
      "16/16 [==============================] - 0s 15ms/step - loss: 0.0053 - val_loss: 0.0016\n",
      "Epoch 74/100\n",
      "16/16 [==============================] - 0s 13ms/step - loss: 0.0058 - val_loss: 0.0019\n",
      "Epoch 75/100\n",
      "16/16 [==============================] - 0s 13ms/step - loss: 0.0059 - val_loss: 0.0015\n",
      "Epoch 76/100\n",
      "16/16 [==============================] - 0s 12ms/step - loss: 0.0053 - val_loss: 0.0016\n",
      "Epoch 77/100\n",
      "16/16 [==============================] - 0s 12ms/step - loss: 0.0053 - val_loss: 0.0016\n",
      "Epoch 78/100\n",
      "16/16 [==============================] - 0s 12ms/step - loss: 0.0050 - val_loss: 0.0014\n",
      "Epoch 79/100\n",
      "16/16 [==============================] - 0s 12ms/step - loss: 0.0053 - val_loss: 0.0014\n",
      "Epoch 80/100\n",
      "16/16 [==============================] - 0s 13ms/step - loss: 0.0051 - val_loss: 0.0015\n",
      "Epoch 81/100\n",
      "16/16 [==============================] - 0s 13ms/step - loss: 0.0051 - val_loss: 0.0020\n",
      "Epoch 82/100\n"
     ]
    },
    {
     "name": "stdout",
     "output_type": "stream",
     "text": [
      "16/16 [==============================] - 0s 12ms/step - loss: 0.0047 - val_loss: 0.0015\n",
      "Epoch 83/100\n",
      "16/16 [==============================] - 0s 9ms/step - loss: 0.0049 - val_loss: 0.0015\n",
      "Epoch 84/100\n",
      "16/16 [==============================] - 0s 10ms/step - loss: 0.0050 - val_loss: 0.0015\n",
      "Epoch 85/100\n",
      "16/16 [==============================] - 0s 9ms/step - loss: 0.0053 - val_loss: 0.0015\n",
      "Epoch 86/100\n",
      "16/16 [==============================] - 0s 11ms/step - loss: 0.0047 - val_loss: 0.0015\n",
      "Epoch 87/100\n",
      "16/16 [==============================] - 0s 9ms/step - loss: 0.0045 - val_loss: 0.0019\n",
      "Epoch 88/100\n",
      "16/16 [==============================] - 0s 11ms/step - loss: 0.0047 - val_loss: 0.0015\n",
      "Epoch 89/100\n",
      "16/16 [==============================] - 0s 13ms/step - loss: 0.0051 - val_loss: 0.0016\n",
      "Epoch 90/100\n",
      "16/16 [==============================] - 0s 13ms/step - loss: 0.0049 - val_loss: 0.0015\n",
      "Epoch 91/100\n",
      "16/16 [==============================] - 0s 13ms/step - loss: 0.0052 - val_loss: 0.0015\n",
      "Epoch 92/100\n",
      "16/16 [==============================] - 0s 12ms/step - loss: 0.0048 - val_loss: 0.0017\n",
      "Epoch 93/100\n",
      "16/16 [==============================] - 0s 13ms/step - loss: 0.0045 - val_loss: 0.0017\n",
      "Epoch 94/100\n",
      "16/16 [==============================] - 0s 12ms/step - loss: 0.0052 - val_loss: 0.0015\n",
      "Epoch 95/100\n",
      "16/16 [==============================] - 0s 12ms/step - loss: 0.0044 - val_loss: 0.0014\n",
      "Epoch 96/100\n",
      "16/16 [==============================] - 0s 13ms/step - loss: 0.0044 - val_loss: 0.0015\n",
      "Epoch 97/100\n",
      "16/16 [==============================] - 0s 12ms/step - loss: 0.0043 - val_loss: 0.0014\n",
      "Epoch 98/100\n",
      "16/16 [==============================] - 0s 13ms/step - loss: 0.0047 - val_loss: 0.0015\n",
      "Epoch 99/100\n",
      "16/16 [==============================] - 0s 12ms/step - loss: 0.0048 - val_loss: 0.0015\n",
      "Epoch 100/100\n",
      "16/16 [==============================] - 0s 10ms/step - loss: 0.0047 - val_loss: 0.0014\n"
     ]
    }
   ],
   "source": [
    "from tensorflow.keras.models import Sequential #library used to import the model to be used\n",
    "from tensorflow.keras.layers import Dense, Activation, Dropout, GRU #library used to import the layers of the neural network and the other needed function, namely the main layer used the GRU and other layers\n",
    "#this is the model of the neural network starting from the input layer upto the output layer\n",
    "model = Sequential()\n",
    "model.add(GRU(15, activation=\"tanh\", recurrent_activation=\"sigmoid\", input_shape=(X_train.shape[1], X_train.shape[2])))\n",
    "model.add(Dropout(0.2))\n",
    "model.add(Dense(1))\n",
    "#the model compiler used to finalize the model and get it ready for use in fitting and predicting\n",
    "model.compile(optimizer=\"adam\", loss=\"mean_squared_error\")\n",
    "h = model.fit(X_train, y_train, shuffle=False, epochs=100, batch_size=32, validation_split=0.2, verbose=1) #model fitting is the training and validation of the data"
   ]
  },
  {
   "cell_type": "code",
   "execution_count": 13,
   "id": "abafba88",
   "metadata": {},
   "outputs": [
    {
     "name": "stdout",
     "output_type": "stream",
     "text": [
      "Model: \"sequential\"\n",
      "_________________________________________________________________\n",
      " Layer (type)                Output Shape              Param #   \n",
      "=================================================================\n",
      " gru (GRU)                   (None, 15)                1035      \n",
      "                                                                 \n",
      " dropout (Dropout)           (None, 15)                0         \n",
      "                                                                 \n",
      " dense (Dense)               (None, 1)                 16        \n",
      "                                                                 \n",
      "=================================================================\n",
      "Total params: 1,051\n",
      "Trainable params: 1,051\n",
      "Non-trainable params: 0\n",
      "_________________________________________________________________\n"
     ]
    }
   ],
   "source": [
    "#print a summary of the model used\n",
    "model.summary()"
   ]
  },
  {
   "cell_type": "code",
   "execution_count": 14,
   "id": "841c83ad",
   "metadata": {},
   "outputs": [
    {
     "data": {
      "text/plain": [
       "<matplotlib.legend.Legend at 0x15dafffcdc0>"
      ]
     },
     "execution_count": 14,
     "metadata": {},
     "output_type": "execute_result"
    },
    {
     "data": {
      "image/png": "[encoded data removed]",
      "text/plain": [
       "<Figure size 640x480 with 1 Axes>"
      ]
     },
     "metadata": {},
     "output_type": "display_data"
    }
   ],
   "source": [
    "#a graph that shows the training loss vs the validation loss of the model\n",
    "plt.plot(h.history['loss'], label='Training loss')\n",
    "plt.plot(h.history['val_loss'], label='Validation loss')\n",
    "plt.legend()"
   ]
  },
  {
   "cell_type": "code",
   "execution_count": 15,
   "id": "7e96fdcb",
   "metadata": {},
   "outputs": [
    {
     "name": "stdout",
     "output_type": "stream",
     "text": [
      "3/3 [==============================] - 1s 4ms/step\n"
     ]
    },
    {
     "data": {
      "text/plain": [
       "<matplotlib.legend.Legend at 0x15daeb94a90>"
      ]
     },
     "execution_count": 15,
     "metadata": {},
     "output_type": "execute_result"
    },
    {
     "data": {
      "image/png": "[encoded data removed]",
      "text/plain": [
       "<Figure size 1600x800 with 1 Axes>"
      ]
     },
     "metadata": {},
     "output_type": "display_data"
    }
   ],
   "source": [
    "#storing and plotting the prediction values using the testing values\n",
    "pred_test = model.predict(X_test)\n",
    "plt.figure(figsize=(16,8))\n",
    "plt.plot(y, label=\"Original\")\n",
    "plt.plot(range(y_train.shape[0]-1, y_train.shape[0]+y_test.shape[0]-1), pred_test, label=\"Prediction\")\n",
    "plt.legend(loc=\"lower right\")"
   ]
  },
  {
   "cell_type": "code",
   "execution_count": 16,
   "id": "a029bccc",
   "metadata": {},
   "outputs": [
    {
     "name": "stdout",
     "output_type": "stream",
     "text": [
      "[Timestamp('2022-08-26 00:00:00', freq='D'), Timestamp('2022-08-27 00:00:00', freq='D'), Timestamp('2022-08-28 00:00:00', freq='D'), Timestamp('2022-08-29 00:00:00', freq='D'), Timestamp('2022-08-30 00:00:00', freq='D'), Timestamp('2022-08-31 00:00:00', freq='D'), Timestamp('2022-09-01 00:00:00', freq='D'), Timestamp('2022-09-02 00:00:00', freq='D'), Timestamp('2022-09-03 00:00:00', freq='D'), Timestamp('2022-09-04 00:00:00', freq='D'), Timestamp('2022-09-05 00:00:00', freq='D'), Timestamp('2022-09-06 00:00:00', freq='D'), Timestamp('2022-09-07 00:00:00', freq='D'), Timestamp('2022-09-08 00:00:00', freq='D')]\n"
     ]
    }
   ],
   "source": [
    "#The same as the one above, this determines how many days you use to check - for - how many days to predict\n",
    "prediction_samples = 30 #past days used to predict the future\n",
    "prediction_steps = 14  #how many days in the future to predict\n",
    "#saves the timestamps to be used in the prediction\n",
    "predict_period_dates = pd.date_range(list(train_dates)[-prediction_samples], periods=prediction_steps).tolist()\n",
    "print(predict_period_dates)"
   ]
  },
  {
   "cell_type": "code",
   "execution_count": 17,
   "id": "e41de1c6",
   "metadata": {},
   "outputs": [
    {
     "name": "stdout",
     "output_type": "stream",
     "text": [
      "1/1 [==============================] - 0s 34ms/step\n"
     ]
    }
   ],
   "source": [
    "#the prediction model used to predict the output of the next 14 days using data of the past 30 days\n",
    "pred = model.predict(X_train[-prediction_steps:]) #predicts the forecast of the day\n",
    "pred_copies = np.repeat(pred, BPI_data.shape[1], axis=-1) #repeats the prediction to complete the 14 day forecast"
   ]
  },
  {
   "cell_type": "code",
   "execution_count": 18,
   "id": "c061ded2",
   "metadata": {},
   "outputs": [
    {
     "data": {
      "text/plain": [
       "<matplotlib.legend.Legend at 0x15db52eb250>"
      ]
     },
     "execution_count": 18,
     "metadata": {},
     "output_type": "execute_result"
    },
    {
     "data": {
      "image/png": "[encoded data removed]",
      "text/plain": [
       "<Figure size 1600x800 with 1 Axes>"
      ]
     },
     "metadata": {},
     "output_type": "display_data"
    }
   ],
   "source": [
    "#The plot of the predicted values in the next 14 days compared to the previous values of the past 2 years\n",
    "plt.figure(figsize=(16,8))\n",
    "plt.plot(y, label=\"Original\")\n",
    "plt.plot(range(y.shape[0]-1, y.shape[0]+13), pred_copies, label=\"Prediction\")\n",
    "plt.legend(loc=\"lower right\")"
   ]
  }
 ],
 "metadata": {
  "kernelspec": {
   "display_name": "Python 3 (ipykernel)",
   "language": "python",
   "name": "python3"
  },
  "language_info": {
   "codemirror_mode": {
    "name": "ipython",
    "version": 3
   },
   "file_extension": ".py",
   "mimetype": "text/x-python",
   "name": "python",
   "nbconvert_exporter": "python",
   "pygments_lexer": "ipython3",
   "version": "3.10.4"
  }
 },
 "nbformat": 4,
 "nbformat_minor": 5
}
